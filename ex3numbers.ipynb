{
 "cells": [
  {
   "cell_type": "code",
   "execution_count": null,
   "id": "29a8e695",
   "metadata": {},
   "outputs": [],
   "source": [
    "print(\"I'll count my chickens\")\n",
    "print(\"Hens\", 25+30 /6)\n",
    "print(\"Roosters\", 100 - 25 * 3 % 4)\n",
    "print(\"Now I will count the eggs:\")\n",
    "print(3 + 2 + 1 -5 +4 % 2 - 1 / 4 + 6)\n",
    "print(\"Is it true that 3 + 2 < 5 - 7?\")\n",
    "print(3 + 2 < 5 -7)\n",
    "print(\"What is 3 + 2?\", 3 +2)\n",
    "print(\"What is 5 -7?\", 5 -7)\n",
    "print(\"Oh, that's why\")"
   ]
  }
 ],
 "metadata": {
  "kernelspec": {
   "display_name": "Python 3 (ipykernel)",
   "language": "python",
   "name": "python3"
  },
  "language_info": {
   "codemirror_mode": {
    "name": "ipython",
    "version": 3
   },
   "file_extension": ".py",
   "mimetype": "text/x-python",
   "name": "python",
   "nbconvert_exporter": "python",
   "pygments_lexer": "ipython3",
   "version": "3.10.9"
  }
 },
 "nbformat": 4,
 "nbformat_minor": 5
}
