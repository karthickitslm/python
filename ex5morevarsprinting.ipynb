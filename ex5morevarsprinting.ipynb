{
 "cells": [
  {
   "cell_type": "code",
   "execution_count": 1,
   "id": "96022883",
   "metadata": {},
   "outputs": [
    {
     "name": "stdout",
     "output_type": "stream",
     "text": [
      "Let's talk about Karthick S ..\n",
      "He's 153 cms tall.\n",
      "He's 55 pounds heavy.\n",
      "Actually that's not too heavy.\n",
      "He's got Brown eyes and Black hair .\n",
      "His teeth are usually White depending on the coffee.\n",
      "If I add 35, 153, and 55 I get 243.\n"
     ]
    }
   ],
   "source": [
    "my_name = 'Karthick S .'\n",
    "my_age = 35\n",
    "my_height = 153 # in cms\n",
    "my_weight = 55 # in kgs\n",
    "my_eyes = 'Brown'\n",
    "my_teeth = 'White'\n",
    "my_hair = 'Black'\n",
    "print(f\"Let's talk about {my_name}.\")\n",
    "print(f\"He's {my_height} cms tall.\")\n",
    "print(f\"He's {my_weight} pounds heavy.\")\n",
    "print(\"Actually that's not too heavy.\")\n",
    "print(f\"He's got {my_eyes} eyes and {my_hair} hair .\")\n",
    "print(f\"His teeth are usually {my_teeth} depending on the coffee.\")\n",
    "# this line is tricky, try to get it exactly right\n",
    "total = my_age + my_height + my_weight\n",
    "print(f\"If I add {my_age}, {my_height}, and {my_weight} I get {total}.\")"
   ]
  },
  {
   "cell_type": "code",
   "execution_count": null,
   "id": "2c29755c",
   "metadata": {},
   "outputs": [],
   "source": []
  }
 ],
 "metadata": {
  "kernelspec": {
   "display_name": "Python 3 (ipykernel)",
   "language": "python",
   "name": "python3"
  },
  "language_info": {
   "codemirror_mode": {
    "name": "ipython",
    "version": 3
   },
   "file_extension": ".py",
   "mimetype": "text/x-python",
   "name": "python",
   "nbconvert_exporter": "python",
   "pygments_lexer": "ipython3",
   "version": "3.10.9"
  }
 },
 "nbformat": 4,
 "nbformat_minor": 5
}
