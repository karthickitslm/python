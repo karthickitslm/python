{
 "cells": [
  {
   "cell_type": "code",
   "execution_count": null,
   "id": "4bd6f7e9",
   "metadata": {},
   "outputs": [],
   "source": [
    "# Here some strange stuff, remember type it exactly.\n",
    "days = \"Mon Tue Wed Thu Fri Sat Sun\"\n",
    "months = \"Jan\\nFeb\\nMar\\nApr\\nMay\\nJun\\nJul\\nAug\"\n",
    "\n",
    "print(\"Here are the days: \", days)\n",
    "print(\"Here are the months:\", months)\n",
    "print(\"\"\"\n",
    "There's something going on here.\n",
    "with the three double-quotes.\n",
    "We will be able to type as much as we like.\n",
    "Even 4 lines if we want, or 5, or 6.)\"\"\""
   ]
  }
 ],
 "metadata": {
  "kernelspec": {
   "display_name": "Python 3 (ipykernel)",
   "language": "python",
   "name": "python3"
  },
  "language_info": {
   "codemirror_mode": {
    "name": "ipython",
    "version": 3
   },
   "file_extension": ".py",
   "mimetype": "text/x-python",
   "name": "python",
   "nbconvert_exporter": "python",
   "pygments_lexer": "ipython3",
   "version": "3.10.9"
  }
 },
 "nbformat": 4,
 "nbformat_minor": 5
}
